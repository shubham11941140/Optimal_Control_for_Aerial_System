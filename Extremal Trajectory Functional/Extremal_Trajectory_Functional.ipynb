{
 "cells": [
  {
   "attachments": {},
   "cell_type": "markdown",
   "metadata": {},
   "source": [
    "#### **Importing the necessary libraries**"
   ]
  },
  {
   "cell_type": "code",
   "execution_count": 101,
   "metadata": {},
   "outputs": [],
   "source": [
    "import sympy as sym"
   ]
  },
  {
   "attachments": {},
   "cell_type": "markdown",
   "metadata": {},
   "source": [
    "### To find the **Extremal Trajectory** for functional \n",
    "\n",
    "$$J = \\int_{0}^{t_f} \\{2 \\left( \\dot{x}(t) \\right)^2 + 24 t x(t) \\} dt$$\n",
    "\n",
    "### given the **initial condition** $x(0) = 0$ and the **final condition** $x(t_f) = 2$.\n",
    "\n",
    "##### Let $x(t) = x$ and $\\dot{x}(t) = \\dot{x}$, so \n",
    "\n",
    "$$V(.) = 2 \\dot{x}^2 + 24 tx $$\n",
    "\n",
    "### **Partially Differentiate** with respect to $x$ and $\\dot{x}$\n",
    "\n",
    "$$\\frac{\\delta V}{\\delta x} = 24 t$$\n",
    "\n",
    "$$\\frac{\\delta V}{\\delta \\dot{x}} = 4 \\dot{x}$$\n",
    "\n",
    "### **Solving we get 2 optimized trajectories**\n",
    "\n",
    "$$x^*(t) = t^3 - 1.117t$$\n",
    "\n",
    "$$x^*(t) = t^3 + 2.687t$$\n"
   ]
  },
  {
   "attachments": {},
   "cell_type": "markdown",
   "metadata": {},
   "source": [
    "### **We need to compute 2 quantities**\n",
    "\n",
    "#### **Hessian Matrix** $H$ and **Second Variation** $\\delta^2 J$\n",
    "\n",
    "### **Hessian Matrix**\n",
    "\n",
    "$$H = \\begin{bmatrix} \\frac{\\delta^2 V}{\\delta x^2} & \\frac{\\delta^2 V}{\\delta x \\delta \\dot{x}} \\\\ \\frac{\\delta^2 V}{\\delta \\dot{x} \\delta x} & \\frac{\\delta^2 V}{\\delta \\dot{x}^2} \\end{bmatrix}$$\n",
    "\n",
    "### **Second Variation**\n",
    "\n",
    "$$\\delta^2 J = \\frac{1}{2} \\int_{t_0}^{t_f} \\{ \\begin{bmatrix} \\delta x & \\delta \\dot{x} \\end{bmatrix} \\begin{bmatrix} \\frac{\\delta^2 V}{\\delta x^2} & \\frac{\\delta^2 V}{\\delta x \\delta \\dot{x}} \\\\ \\frac{\\delta^2 V}{\\delta \\dot{x} \\delta x} & \\frac{\\delta^2 V}{\\delta \\dot{x}^2} \\end{bmatrix} \\begin{bmatrix} \\delta x \\\\ \\delta \\dot{x} \\end{bmatrix} \\} dt$$\n",
    "\n",
    "$$\\implies \\delta^2 J = \\frac{1}{2} \\int_{t_0}^{t_f} \\{ \\begin{bmatrix} \\delta x & \\delta \\dot{x} \\end{bmatrix} H \\begin{bmatrix} \\delta x \\\\ \\delta \\dot{x} \\end{bmatrix} \\} dt$$"
   ]
  },
  {
   "attachments": {},
   "cell_type": "markdown",
   "metadata": {},
   "source": [
    "### **Compute Hessian Matrix**"
   ]
  },
  {
   "cell_type": "code",
   "execution_count": 102,
   "metadata": {},
   "outputs": [
    {
     "name": "stdout",
     "output_type": "stream",
     "text": [
      "V =  24*t*x + 2*x_dot**2\n"
     ]
    }
   ],
   "source": [
    "# Initialise the symbolic variables\n",
    "\n",
    "x = sym.symbols('x')\n",
    "x_dot = sym.symbols('x_dot')\n",
    "t = sym.symbols('t')\n",
    "\n",
    "V = sym.symbols('V')\n",
    "\n",
    "# Define the symbolic equations\n",
    "\n",
    "V = 2 * x_dot**2 + 24 * t * x\n",
    "\n",
    "# Print the symbolic equations\n",
    "\n",
    "print('V = ', V)"
   ]
  },
  {
   "cell_type": "code",
   "execution_count": 103,
   "metadata": {},
   "outputs": [
    {
     "name": "stdout",
     "output_type": "stream",
     "text": [
      "V_x =  24*t\n",
      "V_x_dot =  4*x_dot\n"
     ]
    }
   ],
   "source": [
    "# Compute the partial derivatives\n",
    "\n",
    "V_x = sym.diff(V, x)\n",
    "\n",
    "V_x_dot = sym.diff(V, x_dot)\n",
    "\n",
    "# Print the partial derivatives\n",
    "\n",
    "print('V_x = ', V_x)\n",
    "\n",
    "print('V_x_dot = ', V_x_dot)"
   ]
  },
  {
   "cell_type": "code",
   "execution_count": 104,
   "metadata": {},
   "outputs": [
    {
     "name": "stdout",
     "output_type": "stream",
     "text": [
      "H =  Matrix([[0, 0], [0, 4]])\n",
      "H is Minimally Stable\n"
     ]
    }
   ],
   "source": [
    "# Compute the Hessian matrix\n",
    "\n",
    "H = sym.Matrix(sym.hessian(V, [x, x_dot]))\n",
    "\n",
    "print('H = ', H)\n",
    "\n",
    "if H.is_positive_semidefinite:\n",
    "    print('H is Minimally Stable')"
   ]
  },
  {
   "attachments": {},
   "cell_type": "markdown",
   "metadata": {},
   "source": [
    "$$H = \\begin{bmatrix} 0 & 0 \\\\ 0 & 4 \\end{bmatrix}$$\n",
    "\n",
    "This means our solution is a minimum if the **Hessian Matrix is positive definite.**\n",
    "\n",
    "### So, this is a **minima trajectory.**"
   ]
  },
  {
   "attachments": {},
   "cell_type": "markdown",
   "metadata": {},
   "source": [
    "### **Compute Second Variation**\n",
    "\n",
    "$$\\delta^2 J = \\frac{1}{2} \\int_{t_0}^{t_f} \\{ \\begin{bmatrix} \\delta x & \\delta \\dot{x} \\end{bmatrix} H \\begin{bmatrix} \\delta x \\\\ \\delta \\dot{x} \\end{bmatrix} \\} dt$$\n",
    "\n",
    "at Optimal Trajectory $x^*(t)$,\n",
    "\n",
    "$$x^*(t) = t^3 - 1.117t$$\n",
    "\n",
    "$$x^*(t) = t^3 + 2.687t$$"
   ]
  },
  {
   "cell_type": "code",
   "execution_count": 105,
   "metadata": {},
   "outputs": [],
   "source": [
    "def second_variation(x, H, t0, tf):\n",
    "    x_dot = sym.symbols('x_dot')\n",
    "    x_dot = sym.diff(x, t)\n",
    "\n",
    "    del_x = sym.symbols('del_x')\n",
    "    del_x_dot = sym.symbols('del_x_dot')\n",
    "\n",
    "    del_x = sym.diff(x, t)\n",
    "    del_x_dot = sym.diff(x_dot, t)\n",
    "\n",
    "    m1 = sym.Matrix([[del_x, del_x_dot]])\n",
    "\n",
    "    m2 = sym.Matrix([[del_x], [del_x_dot]])\n",
    "\n",
    "    mat = m1 * H * m2\n",
    "\n",
    "    ans = sym.integrate(mat[0], (t, t0, tf)) / 2\n",
    "\n",
    "    return ans"
   ]
  },
  {
   "attachments": {},
   "cell_type": "markdown",
   "metadata": {},
   "source": [
    "### **Optimal Trajectory 1:**\n",
    "\n",
    "$$x^*(t) = t^3 - 1.117t$$\n",
    "\n",
    "$$t_0 = 0$$\n",
    "\n",
    "$$t_f = 1.55$$"
   ]
  },
  {
   "cell_type": "code",
   "execution_count": 106,
   "metadata": {},
   "outputs": [
    {
     "data": {
      "text/latex": [
       "$\\displaystyle 89.373$"
      ],
      "text/plain": [
       "89.3730000000000"
      ]
     },
     "execution_count": 106,
     "metadata": {},
     "output_type": "execute_result"
    }
   ],
   "source": [
    "x = t**3 - 1.117*t\n",
    "t0 = 0\n",
    "tf = 1.55\n",
    "second_variation(x, H, t0, tf)"
   ]
  },
  {
   "attachments": {},
   "cell_type": "markdown",
   "metadata": {},
   "source": [
    "$$\\delta^2 J = 89.373$$"
   ]
  },
  {
   "attachments": {},
   "cell_type": "markdown",
   "metadata": {},
   "source": [
    "### **Optimal Trajectory 2:**\n",
    "\n",
    "$$x^*(t) = t^3 + 2.687t$$\n",
    "\n",
    "$$t_0 = 0$$\n",
    "\n",
    "$$t_f = 0.64$$"
   ]
  },
  {
   "cell_type": "code",
   "execution_count": 107,
   "metadata": {},
   "outputs": [
    {
     "data": {
      "text/latex": [
       "$\\displaystyle 6.291456$"
      ],
      "text/plain": [
       "6.29145600000000"
      ]
     },
     "execution_count": 107,
     "metadata": {},
     "output_type": "execute_result"
    }
   ],
   "source": [
    "x = t**3 + 2.687*t\n",
    "t0 = 0\n",
    "tf = 0.64\n",
    "second_variation(x, H, t0, tf)"
   ]
  },
  {
   "attachments": {},
   "cell_type": "markdown",
   "metadata": {},
   "source": [
    "$$\\delta^2 J = 6.291456$$"
   ]
  }
 ],
 "metadata": {
  "kernelspec": {
   "display_name": "Python 3",
   "language": "python",
   "name": "python3"
  },
  "language_info": {
   "codemirror_mode": {
    "name": "ipython",
    "version": 3
   },
   "file_extension": ".py",
   "mimetype": "text/x-python",
   "name": "python",
   "nbconvert_exporter": "python",
   "pygments_lexer": "ipython3",
   "version": "3.11.2"
  },
  "orig_nbformat": 4,
  "vscode": {
   "interpreter": {
    "hash": "42cdfe4f3c941b14f1ffc0cb241a1c3ed8a8a8e171a1e73cb861685cc9085a2e"
   }
  }
 },
 "nbformat": 4,
 "nbformat_minor": 2
}
