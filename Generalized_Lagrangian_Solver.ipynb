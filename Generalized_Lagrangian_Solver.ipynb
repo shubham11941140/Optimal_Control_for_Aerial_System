{
 "cells": [
  {
   "attachments": {},
   "cell_type": "markdown",
   "metadata": {},
   "source": [
    "#### **Importing the necessary libraries**"
   ]
  },
  {
   "cell_type": "code",
   "execution_count": 8,
   "metadata": {},
   "outputs": [],
   "source": [
    "import itertools\n",
    "import sympy as sym"
   ]
  },
  {
   "attachments": {},
   "cell_type": "markdown",
   "metadata": {},
   "source": [
    "### **Generalized $n$ variable Template Function for any given mathematical problem with given constraints**\n",
    "\n",
    "#### **Generalized Optimizer** - **Lagrangian Solver** - All feasible solutions are given along with local minima/maxima\n",
    "\n",
    "### **Input:**\n",
    "\n",
    "#### **1.** **Minimize/Maximize Objective Function**\n",
    "\n",
    "$$f(x_1,x_2,...,x_n)$$\n",
    "\n",
    "#### **2.** **Equality Constraints** - \n",
    "\n",
    "$$h_i(x_1,x_2,...,x_n) = 0 \\quad i = 1,2,...,p$$\n",
    "\n",
    "#### **3.** **Inequality Constraints** \n",
    "\n",
    "$$g_j(x_1,x_2,...,x_n) \\leq 0 \\quad j = 1,2,...,m$$\n",
    "\n",
    "### **Solver Variables:**\n",
    "\n",
    "#### **1.** **Lagrange Function** - $L(f, x, \\lambda, h, \\mu, g, s)$\n",
    "\n",
    "$$L(f, x, \\lambda, h, \\mu, g, s) = f(x) + \\sum_{i=1}^{p}\\lambda_i h_i(x) + \\sum_{j=1}^{m}\\mu_i (g_j(x) + s_{j}^{2})$$\n",
    "\n",
    "#### **2.** **Lagrange Multipliers** - $\\lambda_i, \\mu_j, s_j$\n",
    "\n",
    "$$ \\mu_j \\geq 0, s_j \\geq 0 \\quad j = 1,2,...,m$$\n",
    "\n",
    "### **Necessary Conditions (Stationarity):**\n",
    "\n",
    "#### **1.** **Lagrange Equation**\n",
    "\n",
    "$$ \\frac{\\partial L}{\\partial x_k} = 0 \\quad k = 1,2,...,n$$\n",
    "\n",
    "#### **2.** **KKT Conditions**\n",
    "\n",
    "$$ \\frac{\\partial L}{\\partial \\lambda_i} = 0 \\quad i = 1,2,...,p$$\n",
    "\n",
    "$$ \\frac{\\partial L}{\\partial \\mu_j} = 0 \\quad j = 1,2,...,m$$\n",
    "\n",
    "$$ \\frac{\\partial L}{\\partial s_j} = 0 \\quad j = 1,2,...,m$$\n",
    "\n",
    "### **Feasibility Conditions:**\n",
    "\n",
    "$$s_j^2 \\geq 0 \\quad j = 1,2,...,m$$\n",
    "\n",
    "$$g_j(x) \\leq 0 \\quad j = 1,2,...,m$$\n",
    "\n",
    "### **Switching/Orthogonality Conditions:**\n",
    "\n",
    "$$\\mu_j \\times g_j(x) = 0 \\quad j = 1,2,...,m$$\n",
    "\n",
    "### **Sufficient Conditions:**\n",
    "\n",
    "$$ \\exists \\lambda^* = [\\lambda_1^*, \\lambda_2^*, ..., \\lambda_p^*] \\quad \\exists \\mu^* = [\\mu_1^*, \\mu_2^*, ..., \\mu_m^*] $$\n",
    "\n",
    "$$ \\triangledown_x^{2} f(x^*) + \\sum_{i=1}^{p}\\lambda_i^* \\triangledown_x^{2} h_i(x^*) + \\sum_{j=1}^{m}\\mu_j^* \\triangledown_x^{2} g_j(x^*) \\geq 0$$\n",
    "\n",
    "\n",
    "\n",
    "\n",
    "\n",
    "\n",
    "\n"
   ]
  },
  {
   "cell_type": "code",
   "execution_count": 59,
   "metadata": {},
   "outputs": [],
   "source": [
    "def solve_lagrangian(f, h, g, side_constraints):\n",
    "        \n",
    "    '''    \n",
    "    This function solves the Constrained Optimization Problem using the Lagrangian Method and KKT Conditions and returns all feasible solutions.\n",
    "    \n",
    "    f : sympy expression\n",
    "    \n",
    "    h : list of sympy expressions (Equality Constraints)\n",
    "    \n",
    "    g : list of sympy expressions (Inequality Constraints)\n",
    "    \n",
    "    side_constraints : list of sympy expressions (Side Constraints)\n",
    "    \n",
    "    '''\n",
    "\n",
    "    # Type check if f, h, g are sympy expressions\n",
    "    if not isinstance(f, sym.Expr) or not isinstance(h, list) or not isinstance(g, list):\n",
    "        raise Exception(\"f, h, g must be sympy expressions\")\n",
    "    \n",
    "    # Get Free Symbols from f, h, g\n",
    "    symbols = list(set(f.free_symbols).union(*[set(h_i.free_symbols) for h_i in h]).union(*[set(g_j.free_symbols) for g_j in g]))\n",
    "    \n",
    "    # Find number of equality constraints\n",
    "    p = len(h)\n",
    "\n",
    "    # Creating Lambda matrix\n",
    "    l = sym.Matrix([sym.symbols(f\"l_{i}\") for i in range(p)])\n",
    "\n",
    "    # Find number of inequality constraints\n",
    "    m = len(g)\n",
    "\n",
    "    # Creating Mu matrix\n",
    "    u = sym.Matrix([sym.symbols(f\"u_{j}\") for j in range(m)])\n",
    "\n",
    "    # Creating S matrix\n",
    "    s = sym.Matrix([sym.symbols(f\"s_{j}\") for j in range(m)])\n",
    "\n",
    "    # Writing Lagrangian\n",
    "    L = f + sum([l[i]*h[i] for i in range(p)]) + sum([u[j]*(g[j] + s[j]**2)for j in range(m)])\n",
    "\n",
    "    # Finding the partial derivatives of the Lagrangian\n",
    "    L_x = sym.Matrix([sym.diff(L, x) for x in symbols])\n",
    "    \n",
    "    # Finding Hessians of f, every h_i, and every g_j\n",
    "    H_f = sym.hessian(f, symbols)\n",
    "    H_h = [sym.hessian(h_i, symbols) for h_i in h]\n",
    "    H_g = [sym.hessian(g_j, symbols) for g_j in g]\n",
    "    \n",
    "    # Now we need Switching Conditions\n",
    "    # We will have 2^m cases\n",
    "    \n",
    "    # First we need to find all possible combinations of m binary variables\n",
    "    # We will use 0 to represent m_i = 0 and 1 to represent m_i > 0\n",
    "    # We will use 0 to represent g_i = 0 and 1 to represent g_i < 0\n",
    "    \n",
    "    # All possible combinations of m binary variables\n",
    "    all_combinations = list(itertools.product([0, 1], repeat=m))\n",
    "\n",
    "    # Defining cases and their checks\n",
    "    cases = []\n",
    "    case_checks = []\n",
    "    \n",
    "    for combination in all_combinations:\n",
    "        \n",
    "        # 0 represents m_i = 0 i.e. g_i < 0 and 1 represents m_i > 0 i.e. g_i = 0\n",
    "        curr_case = []\n",
    "        curr_checks = []\n",
    "\n",
    "        for i in range(m):\n",
    "            if combination[i] == 0:\n",
    "                curr_case.append(sym.Eq(u[i], 0))\n",
    "                curr_checks.append(g[i] < 0)\n",
    "            else:\n",
    "                curr_case.append(sym.Eq(g[i], 0))\n",
    "                curr_checks.append(u[i] > 0)\n",
    "        \n",
    "        # Adding side constraints\n",
    "        curr_checks += side_constraints\n",
    "        \n",
    "        # Append Lagrandian partial derivative equations\n",
    "        curr_case += [sym.Eq(L_x[i], 0) for i in range(len(symbols))]\n",
    "        \n",
    "        # Add h_i = 0 equations\n",
    "        curr_case += [sym.Eq(h_i, 0) for h_i in h]\n",
    "\n",
    "        # Adding the case and its checks\n",
    "        cases.append(curr_case)\n",
    "        case_checks.append(curr_checks)\n",
    "    \n",
    "    # Let's solve all the cases and check if they are feasible\n",
    "    solutions = []\n",
    "    \n",
    "    symbols_to_solve = symbols.copy()\n",
    "    symbols_to_solve.extend(l)\n",
    "    symbols_to_solve.extend(u)\n",
    "    \n",
    "    for i in range(len(cases)):\n",
    "        \n",
    "        # Solving the current case\n",
    "        curr_solution = sym.solve(cases[i], symbols_to_solve)\n",
    "        \n",
    "        # Check if curr_solution is a list of tuples\n",
    "        if isinstance(curr_solution, list):\n",
    "            # There can be multiple solutions        \n",
    "            # We will try all the solutions and check if they are feasible        \n",
    "            for solution in curr_solution:\n",
    "                \n",
    "                # Flag to check if solution is a real number\n",
    "                flag = True\n",
    "                \n",
    "                # Converting the solution to a dictionary\n",
    "                sol_dict = {}\n",
    "                for j in range(len(symbols_to_solve)):\n",
    "\n",
    "                    # Checking if the solution[j] is a Complex Number\n",
    "                    if sym.im(solution[j]) != 0:\n",
    "                        flag = False\n",
    "                        break\n",
    "                    \n",
    "                    sol_dict[symbols_to_solve[j]] = solution[j]\n",
    "                \n",
    "                if not flag:\n",
    "                    solutions.append(None)\n",
    "                    continue\n",
    "                \n",
    "                # Checking if the current solution is feasible\n",
    "                curr_checks_res = [check.subs(sol_dict) for check in case_checks[i]]\n",
    "\n",
    "                solutions.append(solution if all(curr_checks_res) else None)\n",
    "                \n",
    "        else:\n",
    "            \n",
    "            # Single solution\n",
    "            \n",
    "            # Flag to check if solution is a real number\n",
    "            flag = True\n",
    "            \n",
    "            # Curr_soln is a dictionary\n",
    "            for sol in curr_solution.values():\n",
    "                if sym.im(sol) != 0:\n",
    "                    flag = False\n",
    "                    break\n",
    "            \n",
    "            if not flag:\n",
    "                solutions.append(None)\n",
    "                continue\n",
    "            \n",
    "            curr_checks_res = [check.subs(curr_solution) for check in case_checks[i]]\n",
    "\n",
    "            solutions.append(curr_solution if all(curr_checks_res) else None)\n",
    "    \n",
    "    # Now we need to check if the solutions are local minima or local maxima\n",
    "    # We will use the following conditions\n",
    "    # H_f + sum(l_i*H_h_i) + sum(u_j*H_g_j) is positive semidefinite\n",
    "    for i in range(len(solutions)):\n",
    "        \n",
    "        if solutions[i] is not None:\n",
    "            \n",
    "            # Substituting the solution in the Hessian and adding all the Hessians\n",
    "            R = H_f.copy()\n",
    "            for i in range(p):\n",
    "                R += l[i]*H_h[i]\n",
    "            for j in range(m):\n",
    "                R += u[j]*H_g[j]\n",
    "            \n",
    "            R = R.subs(solutions[i])\n",
    "            \n",
    "            # Checking if the Hessian is positive semidefinite\n",
    "            solutions[i][\"type\"] = \"max\" if not R.is_positive_semidefinite else \"min\"\n",
    "            \n",
    "            # Add F-value to the solution\n",
    "            solutions[i][\"F\"] = f.subs(solutions[i])\n",
    "    \n",
    "    # Return Non-None Solutions\n",
    "    return [solution for solution in solutions if solution is not None]"
   ]
  },
  {
   "attachments": {},
   "cell_type": "markdown",
   "metadata": {},
   "source": [
    "### **Example 1:**"
   ]
  },
  {
   "attachments": {},
   "cell_type": "markdown",
   "metadata": {},
   "source": [
    "#### **Minimize** - $f(x_1,x_2) = x_1^2 + x_2^2 - 4x_1 - 6x_2$ subject to $x_1 + x_2 - 2 \\leq 0$ and $2x_1 + 3x_2 -12 \\leq 0$ and $x_1 \\geq 0$ and $x_2 \\geq 0$"
   ]
  },
  {
   "cell_type": "code",
   "execution_count": 60,
   "metadata": {},
   "outputs": [
    {
     "data": {
      "text/plain": [
       "[{x2: 3/2, x1: 1/2, u_0: 3, u_1: 0, 'type': 'min', 'F': -17/2}]"
      ]
     },
     "execution_count": 60,
     "metadata": {},
     "output_type": "execute_result"
    }
   ],
   "source": [
    "x1, x2 = sym.symbols(\"x1 x2\")\n",
    "f = x1**2 + x2**2 - 4*x1 - 6*x2\n",
    "g = [x1 + x2 - 2, 2*x1 + 3*x2 - 12]\n",
    "h = []\n",
    "side_constraints = [x1 >= 0, x2 >= 0]\n",
    "\n",
    "solve_lagrangian(f, h, g, side_constraints)"
   ]
  },
  {
   "attachments": {},
   "cell_type": "markdown",
   "metadata": {},
   "source": [
    "### **Example 2:**"
   ]
  },
  {
   "attachments": {},
   "cell_type": "markdown",
   "metadata": {},
   "source": [
    "#### **Minimize** - $f(x_1,x_2) = (x_1 - 2.5)^2 + (x_2 - 2.5)^2$ subject to $2x_1 + 2x_2 - 3 \\leq 0$ and $x_1 \\geq 0$ and $x_2 \\geq 0$"
   ]
  },
  {
   "cell_type": "code",
   "execution_count": 61,
   "metadata": {},
   "outputs": [
    {
     "data": {
      "text/plain": [
       "[{x2: 0.750000000000000,\n",
       "  x1: 0.750000000000000,\n",
       "  u_0: 1.75000000000000,\n",
       "  'type': 'min',\n",
       "  'F': 6.12500000000000}]"
      ]
     },
     "execution_count": 61,
     "metadata": {},
     "output_type": "execute_result"
    }
   ],
   "source": [
    "x1, x2 = sym.symbols(\"x1 x2\")\n",
    "f = (x1 - 2.5)**2 + (x2 - 2.5)**2\n",
    "h = []\n",
    "g = [2*x1 + 2*x2 - 3]\n",
    "side_constraints = [x1 >= 0, x2 >= 0]\n",
    "\n",
    "solve_lagrangian(f, h, g, side_constraints)"
   ]
  },
  {
   "attachments": {},
   "cell_type": "markdown",
   "metadata": {},
   "source": [
    "### **Example 3:**"
   ]
  },
  {
   "attachments": {},
   "cell_type": "markdown",
   "metadata": {},
   "source": [
    "#### **Minimize** - $f(x_1,x_2) = (x_1 - 2.5)^2 + (x_2 - 2.5)^2$ subject to $2x_1 + 2x_2 = 3$ and $x_1 \\geq 0$ and $x_2 \\geq 0$"
   ]
  },
  {
   "cell_type": "code",
   "execution_count": 62,
   "metadata": {},
   "outputs": [
    {
     "data": {
      "text/plain": [
       "[{x2: 0.750000000000000,\n",
       "  x1: 0.750000000000000,\n",
       "  l_0: 1.75000000000000,\n",
       "  'type': 'min',\n",
       "  'F': 6.12500000000000}]"
      ]
     },
     "execution_count": 62,
     "metadata": {},
     "output_type": "execute_result"
    }
   ],
   "source": [
    "x1, x2 = sym.symbols(\"x1 x2\")\n",
    "f = (x1 - 2.5)**2 + (x2 - 2.5)**2\n",
    "g = []\n",
    "h = [2*x1 + 2*x2 - 3]\n",
    "side_constraints = [x1 >= 0, x2 >= 0]\n",
    "\n",
    "solve_lagrangian(f, h, g, side_constraints)"
   ]
  },
  {
   "attachments": {},
   "cell_type": "markdown",
   "metadata": {},
   "source": [
    "### **Tierce-1 Exam Problem 2:**"
   ]
  },
  {
   "attachments": {},
   "cell_type": "markdown",
   "metadata": {},
   "source": [
    "#### **Minimize** - $f(x_1,x_2,x_3) = x_1^2 + 2x_1x_2 + 3x_2^2 + 4x_2x_3 + x_3^2 - 6x_3$"
   ]
  },
  {
   "cell_type": "code",
   "execution_count": 65,
   "metadata": {},
   "outputs": [
    {
     "data": {
      "text/plain": [
       "[{x3: -3, x2: 3, x1: -3, 'type': 'max', 'F': 9}]"
      ]
     },
     "execution_count": 65,
     "metadata": {},
     "output_type": "execute_result"
    }
   ],
   "source": [
    "x1, x2, x3 = sym.symbols(\"x1 x2 x3\")\n",
    "f = x1**2 + 2*x1*x2 + 3*x2**2 + 4*x2*x3 + x3**2 - 6*x3\n",
    "g = []\n",
    "h = []\n",
    "side_constraints = []\n",
    "\n",
    "solve_lagrangian(f, h, g, side_constraints)"
   ]
  },
  {
   "attachments": {},
   "cell_type": "markdown",
   "metadata": {},
   "source": [
    "### **Tierce-1 Exam Problem 3:**"
   ]
  },
  {
   "attachments": {},
   "cell_type": "markdown",
   "metadata": {},
   "source": [
    "#### **Minimize** - $f(x_1,x_2) = x_1^2 + 2x_2^2 - 3x_1 - 6x_2$ subject to $x_1 + x_2 \\leq 3$ and $x_1 + 3x_2 \\leq 10$ and $x_2 \\geq 0$"
   ]
  },
  {
   "cell_type": "code",
   "execution_count": 66,
   "metadata": {},
   "outputs": [
    {
     "data": {
      "text/plain": [
       "[]"
      ]
     },
     "execution_count": 66,
     "metadata": {},
     "output_type": "execute_result"
    }
   ],
   "source": [
    "x1, x2 = sym.symbols(\"x1 x2\")\n",
    "f = x1**2 + 2*x2**2 - 3*x1 - 6*x2\n",
    "g = [x1 + x2 - 3, x1 + 3*x2 - 10]\n",
    "h = []\n",
    "side_constraints = [x2 >= 0]\n",
    "\n",
    "solve_lagrangian(f, h, g, side_constraints)"
   ]
  },
  {
   "attachments": {},
   "cell_type": "markdown",
   "metadata": {},
   "source": [
    "### **If you wish to test more examples, you can input you functions f, g, h and run it on this code.**"
   ]
  },
  {
   "attachments": {},
   "cell_type": "markdown",
   "metadata": {},
   "source": [
    "## **Solving Example 1 Step-by-Step to show the execution of the code**"
   ]
  },
  {
   "attachments": {},
   "cell_type": "markdown",
   "metadata": {},
   "source": [
    "### **Problem Statement:**\n",
    "\n",
    "Write a code to minimise $f(x) = x_{1}^2 + x_{2}^2 - 4x_{1} - 6x_{2}$ and subject to the constraints $x_{1} + x_{2} \\leq 2$ and $2x_{1} + 3x_{2} \\leq 12$ and $x_{1} \\geq 0$ and $x_{2} \\geq 0$."
   ]
  },
  {
   "attachments": {},
   "cell_type": "markdown",
   "metadata": {},
   "source": [
    "**Solution:**\n",
    "\n",
    "We will use the **Lagrange Multiplier Method** to solve this problem.\n",
    "\n",
    "**Step 1:** We will first define the function $f(x)$ and the constraints $g(x)$ and $h(x)$.\n",
    "\n",
    "**Step 2:** We will then define the Lagrangian function $L(x, \\lambda, \\mu)$.\n",
    "\n",
    "**Step 3:** We will then find the partial derivatives of the Lagrangian function with respect to $x_{1}$, $x_{2}$ and put them equal to $0$ to get some conditions.\n",
    "\n",
    "**Step-4:** We will create switching conditions using the equation: $\\mu_{j}g_{j}(x) = 0$.\n",
    "\n",
    "**Step-5:** Solve all switch cases using Constraints, and another inequality which tells $\\mu_{j} \\geq 0$.\n",
    "\n",
    "**Step-6:** We will then compare solutions of all switch cases and find the optimal solution.\n",
    "\n",
    "\n",
    "\n"
   ]
  },
  {
   "attachments": {},
   "cell_type": "markdown",
   "metadata": {},
   "source": [
    "#### **Code**"
   ]
  },
  {
   "attachments": {},
   "cell_type": "markdown",
   "metadata": {},
   "source": [
    "**Step-1:** Define the function $f(x)$ and the constraints $g(x)$ and $h(x)$."
   ]
  },
  {
   "cell_type": "code",
   "execution_count": 12,
   "metadata": {},
   "outputs": [],
   "source": [
    "x1, x2, l1, l2, m1, m2 = sym.symbols('x1 x2 l1 l2 m1 m2')\n",
    "\n",
    "f = x1**2 + x2**2 - 4*x1 - 6*x2\n",
    "\n",
    "g_1 = x1 + x2 - 2\n",
    "\n",
    "g_2 = 2*x1 + 3*x2 - 12"
   ]
  },
  {
   "attachments": {},
   "cell_type": "markdown",
   "metadata": {},
   "source": [
    "**Step-2:** Define the Lagrangian function $L(x, \\lambda, \\mu)$.\n",
    "\n",
    "$$L(x, \\lambda, \\mu) = f(x) + \\sum_{i=1}^{p}\\lambda_i h_i(x) + \\sum_{j=1}^{m}\\mu_i (g_j(x) + s_{j}^{2})$$\n",
    "\n",
    "$$L(x, \\lambda, \\mu) = x_{1}^2 + x_{2}^2 - 4x_{1} - 6x_{2} + \\mu_{1}(x_{1} + x_{2} - 2 + s_{1}^2) + \\mu_{2}(2x_{1} + 3x_{2} - 12 + s_{2}^2)$$\n",
    "\n",
    "(We do not need to consider $\\lambda$ as we do not have equality constraints.)\n",
    "\n",
    "(Also we do not need to code this function as we will be using the partial derivatives of this function.)"
   ]
  },
  {
   "attachments": {},
   "cell_type": "markdown",
   "metadata": {},
   "source": [
    "**Step-3:** Find the partial derivatives of the Lagrangian function with respect to $x_{1}$, $x_{2}$ and put them equal to $0$ to get some conditions.\n",
    "\n",
    "$$\\frac{\\partial L}{\\partial x_{1}} = 2x_{1} - 4 + \\mu_{1} + 2\\mu_{2} = 0$$\n",
    "\n",
    "$$\\frac{\\partial L}{\\partial x_{2}} = 2x_{2} - 6 + \\mu_{1} + 3\\mu_{2} = 0$$"
   ]
  },
  {
   "cell_type": "code",
   "execution_count": 13,
   "metadata": {},
   "outputs": [
    {
     "data": {
      "text/plain": [
       "(m1 + 2*m2 + 2*x1 - 4, m1 + 3*m2 + 2*x2 - 6)"
      ]
     },
     "execution_count": 13,
     "metadata": {},
     "output_type": "execute_result"
    }
   ],
   "source": [
    "# Lagrangian Derivatives\n",
    "L = f + m1*g_1 + m2*g_2\n",
    "\n",
    "L_x1 = sym.diff(L, x1)\n",
    "L_x2 = sym.diff(L, x2)\n",
    "\n",
    "L_x1, L_x2"
   ]
  },
  {
   "attachments": {},
   "cell_type": "markdown",
   "metadata": {},
   "source": [
    "**Step-4:** Create switching conditions using the equation: $\\mu_{j}g_{j}(x) = 0$.\n",
    "\n",
    "$\\mu_{1}g_{1}(x) = 0$ and $\\mu_{2}g_{2}(x) = 0$\n",
    "\n",
    "**CASE 1:** $\\mu_{1} = 0$ ($g_{1}(x) < 0$) and $\\mu_{2} = 0$ ($g_{2}(x) < 0$)\n",
    "\n",
    "**CASE 2:** $\\mu_{1} = 0$ ($g_{1}(x) < 0$) and $g_{2}(x) = 0$ ($\\mu_{2} > 0$)\n",
    "\n",
    "**CASE 3:** $g_{1}(x) = 0$ ($\\mu_{1} > 0$) and $\\mu_{2} = 0$ ($g_{2}(x) < 0$)\n",
    "\n",
    "**CASE 4:** $g_{1}(x) = 0$ ($\\mu_{1} > 0$) and $g_{2}(x) = 0$ ($\\mu_{2} > 0$)"
   ]
  },
  {
   "cell_type": "code",
   "execution_count": 14,
   "metadata": {},
   "outputs": [
    {
     "data": {
      "text/plain": [
       "([Eq(m1, 0), Eq(m2, 0)],\n",
       " [x1 + x2 - 2 < 0, 2*x1 + 3*x2 - 12 < 0, x1 >= 0, x2 >= 0],\n",
       " [Eq(m1, 0), Eq(2*x1 + 3*x2 - 12, 0)],\n",
       " [x1 + x2 - 2 < 0, m2 > 0, x1 >= 0, x2 >= 0],\n",
       " [Eq(x1 + x2 - 2, 0), Eq(m2, 0)],\n",
       " [m1 > 0, 2*x1 + 3*x2 - 12 < 0, x1 >= 0, x2 >= 0],\n",
       " [Eq(x1 + x2 - 2, 0), Eq(2*x1 + 3*x2 - 12, 0)],\n",
       " [m1 > 0, m2 > 0, x1 >= 0, x2 >= 0])"
      ]
     },
     "execution_count": 14,
     "metadata": {},
     "output_type": "execute_result"
    }
   ],
   "source": [
    "# Switching Conditions\n",
    "case_1 = [sym.Eq(m1, 0), sym.Eq(m2, 0)]\n",
    "case_1_checks = [g_1 < 0, g_2 < 0, x1 >= 0, x2 >= 0]\n",
    "\n",
    "case_2 = [sym.Eq(m1, 0), sym.Eq(g_2, 0)]\n",
    "case_2_checks = [g_1 < 0, m2 > 0, x1 >= 0, x2 >= 0]\n",
    "\n",
    "case_3 = [sym.Eq(g_1, 0), sym.Eq(m2, 0)]\n",
    "case_3_checks = [m1 > 0, g_2 < 0, x1 >= 0, x2 >= 0]\n",
    "\n",
    "case_4 = [sym.Eq(g_1, 0), sym.Eq(g_2, 0)]\n",
    "case_4_checks = [m1 > 0, m2 > 0, x1 >= 0, x2 >= 0]\n",
    "\n",
    "case_1, case_1_checks, case_2, case_2_checks, case_3, case_3_checks, case_4, case_4_checks"
   ]
  },
  {
   "attachments": {},
   "cell_type": "markdown",
   "metadata": {},
   "source": [
    "**Step-5:** Solve all switch cases using Constraints, and another inequality which tells $\\mu_{j} \\geq 0$."
   ]
  },
  {
   "attachments": {},
   "cell_type": "markdown",
   "metadata": {},
   "source": [
    "**CASE 1:** \n",
    "\n",
    "$\\mu_{1} = 0$ ($g_{1}(x) < 0$) and $\\mu_{2} = 0$ ($g_{2}(x) < 0$)\n",
    "\n",
    "$$2x_{1} + 3x_{2} - 12 = 0$$\n",
    "\n",
    "$$x_{1} + x_{2} - 2 = 0$$\n",
    "\n",
    "$$x_{1} \\geq 0$$\n",
    "\n",
    "$$x_{2} \\geq 0$$\n",
    "\n",
    "$$\\mu_{1} \\geq 0$$\n",
    "\n",
    "$$\\mu_{2} \\geq 0$$"
   ]
  },
  {
   "cell_type": "code",
   "execution_count": 15,
   "metadata": {},
   "outputs": [
    {
     "data": {
      "text/plain": [
       "{x1: 2, x2: 3, m1: 0, m2: 0}"
      ]
     },
     "execution_count": 15,
     "metadata": {},
     "output_type": "execute_result"
    }
   ],
   "source": [
    "# Case 1\n",
    "case_1_constraints = [sym.Eq(L_x1, 0), sym.Eq(L_x2, 0)] + case_1\n",
    "case_1_solution = sym.solve(case_1_constraints, [x1, x2, m1, m2])\n",
    "\n",
    "case_1_solution"
   ]
  },
  {
   "cell_type": "code",
   "execution_count": 16,
   "metadata": {},
   "outputs": [
    {
     "name": "stdout",
     "output_type": "stream",
     "text": [
      "Case 1 is invalid\n"
     ]
    }
   ],
   "source": [
    "# Perform checks\n",
    "case_1_checks_res = [check.subs(case_1_solution) for check in case_1_checks]\n",
    "\n",
    "if all(case_1_checks_res):\n",
    "    print('Case 1 is valid')\n",
    "else:\n",
    "    print('Case 1 is invalid')"
   ]
  },
  {
   "attachments": {},
   "cell_type": "markdown",
   "metadata": {},
   "source": [
    "**Case 1 is not feasible**"
   ]
  },
  {
   "attachments": {},
   "cell_type": "markdown",
   "metadata": {},
   "source": [
    "**CASE 2:**\n",
    "\n",
    "$\\mu_{1} = 0$ ($g_{1}(x) < 0$) and $g_{2}(x) = 0$ ($\\mu_{2} > 0$)\n",
    "\n",
    "$$2x_{1} + 3x_{2} - 12 = 0$$\n",
    "\n",
    "$$x_{1} + x_{2} - 2= 0$$\n",
    "\n",
    "$$x_{1} \\geq 0$$\n",
    "\n",
    "$$x_{2} \\geq 0$$\n",
    "\n",
    "$$\\mu_{1} \\geq 0$$\n",
    "\n",
    "$$\\mu_{2} \\geq 0$$"
   ]
  },
  {
   "cell_type": "code",
   "execution_count": 17,
   "metadata": {},
   "outputs": [
    {
     "data": {
      "text/plain": [
       "{x1: 24/13, x2: 36/13, m1: 0, m2: 2/13}"
      ]
     },
     "execution_count": 17,
     "metadata": {},
     "output_type": "execute_result"
    }
   ],
   "source": [
    "# Case 2\n",
    "case_2_constraints = [sym.Eq(L_x1, 0), sym.Eq(L_x2, 0)] + case_2\n",
    "\n",
    "# Solve Case 2 and find x1, x2, m1, m2\n",
    "case_2_solution = sym.solve(case_2_constraints, [x1, x2, m1, m2])\n",
    "\n",
    "case_2_solution"
   ]
  },
  {
   "cell_type": "code",
   "execution_count": 18,
   "metadata": {},
   "outputs": [
    {
     "name": "stdout",
     "output_type": "stream",
     "text": [
      "Case 2 is invalid\n"
     ]
    }
   ],
   "source": [
    "# Perform checks for Case 2\n",
    "case_2_checks_res = [check.subs(case_2_solution) for check in case_2_checks]\n",
    "\n",
    "if all(case_2_checks_res):\n",
    "    print('Case 2 is valid')\n",
    "else:\n",
    "    print('Case 2 is invalid')"
   ]
  },
  {
   "attachments": {},
   "cell_type": "markdown",
   "metadata": {},
   "source": [
    "**Case 2 is not feasible**"
   ]
  },
  {
   "attachments": {},
   "cell_type": "markdown",
   "metadata": {},
   "source": [
    "**CASE 3:**\n",
    "\n",
    "$g_{1}(x) = 0$ ($\\mu_{1} > 0$) and $\\mu_{2} = 0$ ($g_{2}(x) < 0$)\n",
    "\n",
    "$$2x_{1} + 3x_{2} - 12 = 0$$\n",
    "\n",
    "$$x_{1} + x_{2} - 2 = 0$$\n",
    "\n",
    "$$x_{1} \\geq 0$$\n",
    "\n",
    "$$x_{2} \\geq 0$$\n",
    "\n",
    "$$\\mu_{1} \\geq 0$$\n",
    "\n",
    "$$\\mu_{2} \\geq 0$$"
   ]
  },
  {
   "cell_type": "code",
   "execution_count": 19,
   "metadata": {},
   "outputs": [
    {
     "data": {
      "text/plain": [
       "{x1: 1/2, x2: 3/2, m1: 3, m2: 0}"
      ]
     },
     "execution_count": 19,
     "metadata": {},
     "output_type": "execute_result"
    }
   ],
   "source": [
    "# Case 3\n",
    "case_3_constraints = [sym.Eq(L_x1, 0), sym.Eq(L_x2, 0)] + case_3\n",
    "\n",
    "# Solve Case 3 and find x1, x2, m1, m2\n",
    "case_3_solution = sym.solve(case_3_constraints, [x1, x2, m1, m2])\n",
    "\n",
    "case_3_solution"
   ]
  },
  {
   "cell_type": "code",
   "execution_count": 20,
   "metadata": {},
   "outputs": [
    {
     "name": "stdout",
     "output_type": "stream",
     "text": [
      "Case 3 is valid\n"
     ]
    }
   ],
   "source": [
    "# Perform checks for Case 3\n",
    "case_3_checks_res = [check.subs(case_3_solution) for check in case_3_checks]\n",
    "\n",
    "if all(case_3_checks_res):\n",
    "    print('Case 3 is valid')\n",
    "else:\n",
    "    print('Case 3 is invalid')"
   ]
  },
  {
   "attachments": {},
   "cell_type": "markdown",
   "metadata": {},
   "source": [
    "**Since Case 3 is feasible, we will solve it.**\n",
    "\n",
    "Finding the function value at $x_{1}, x_{2} = (\\dfrac{1}{2}, \\dfrac{3}{2})$"
   ]
  },
  {
   "cell_type": "code",
   "execution_count": 21,
   "metadata": {},
   "outputs": [
    {
     "data": {
      "text/latex": [
       "$\\displaystyle - \\frac{17}{2}$"
      ],
      "text/plain": [
       "-17/2"
      ]
     },
     "execution_count": 21,
     "metadata": {},
     "output_type": "execute_result"
    }
   ],
   "source": [
    "f_val = f.subs(case_3_solution)\n",
    "\n",
    "f_val"
   ]
  },
  {
   "attachments": {},
   "cell_type": "markdown",
   "metadata": {},
   "source": [
    "The function value is **$-8.5$**\n",
    "\n",
    "Checking for local minima/maxima."
   ]
  },
  {
   "attachments": {},
   "cell_type": "markdown",
   "metadata": {},
   "source": [
    "**To check this, we will use the following condition:**\n",
    "\n",
    "$$\\triangledown^{2}f(x) + \\mu_1 \\triangledown^{2}g_{1}(x) + \\mu_2 \\triangledown^{2}g_{2}(x) \\geq 0$$"
   ]
  },
  {
   "cell_type": "code",
   "execution_count": 22,
   "metadata": {},
   "outputs": [
    {
     "data": {
      "text/latex": [
       "$\\displaystyle \\left[\\begin{matrix}2 & 0\\\\0 & 2\\end{matrix}\\right]$"
      ],
      "text/plain": [
       "Matrix([\n",
       "[2, 0],\n",
       "[0, 2]])"
      ]
     },
     "execution_count": 22,
     "metadata": {},
     "output_type": "execute_result"
    }
   ],
   "source": [
    "# Checking if the solution is a local minimum or a local maximum\n",
    "F = sym.hessian(f, [x1, x2])\n",
    "G1 = sym.hessian(g_1, [x1, x2])\n",
    "G2 = sym.hessian(g_2, [x1, x2])\n",
    "R = F + m1*G1 + m2*G2\n",
    "\n",
    "R.subs(case_3_solution)\n",
    "\n",
    "R"
   ]
  },
  {
   "cell_type": "code",
   "execution_count": 23,
   "metadata": {},
   "outputs": [
    {
     "data": {
      "text/plain": [
       "(Matrix([\n",
       " [2, 0],\n",
       " [0, 2]]),\n",
       " Matrix([\n",
       " [0, 0],\n",
       " [0, 0]]),\n",
       " Matrix([\n",
       " [0, 0],\n",
       " [0, 0]]),\n",
       " Matrix([\n",
       " [2, 0],\n",
       " [0, 2]]))"
      ]
     },
     "execution_count": 23,
     "metadata": {},
     "output_type": "execute_result"
    }
   ],
   "source": [
    "F, G1, G2, R"
   ]
  },
  {
   "cell_type": "code",
   "execution_count": 24,
   "metadata": {},
   "outputs": [
    {
     "name": "stdout",
     "output_type": "stream",
     "text": [
      "Case 3 is a local minimum\n"
     ]
    }
   ],
   "source": [
    "if sym.Matrix(R.subs(case_3_solution)).is_positive_semidefinite:\n",
    "    print('Case 3 is a local minimum')\n",
    "else:\n",
    "    print('Case 3 is a local maximum')"
   ]
  },
  {
   "attachments": {},
   "cell_type": "markdown",
   "metadata": {},
   "source": [
    "#### **The solution is a local minimum.**\n",
    "\n",
    "We cannot say that this is the true minimum value of this function using this method because we have not checked for all the possible solutions till now."
   ]
  },
  {
   "attachments": {},
   "cell_type": "markdown",
   "metadata": {},
   "source": [
    "**CASE 4:**\n",
    "\n",
    "$g_{1}(x) = 0$ ($\\mu_{1} > 0$) and $g_{2}(x) = 0$ ($\\mu_{2} > 0$)\n",
    "\n",
    "$$2x_{1} + 3x_{2} - 12 = 0$$\n",
    "\n",
    "$$x_{1} + x_{2} - 2 = 0$$\n",
    "\n",
    "$$x_{1} \\geq 0$$\n",
    "\n",
    "$$x_{2} \\geq 0$$\n",
    "\n",
    "$$\\mu_{1} \\geq 0$$\n",
    "\n",
    "$$\\mu_{2} \\geq 0$$"
   ]
  },
  {
   "cell_type": "code",
   "execution_count": 25,
   "metadata": {},
   "outputs": [
    {
     "data": {
      "text/plain": [
       "{x1: -6, x2: 8, m1: 68, m2: -26}"
      ]
     },
     "execution_count": 25,
     "metadata": {},
     "output_type": "execute_result"
    }
   ],
   "source": [
    "# Case 4\n",
    "case_4_constraints = [sym.Eq(L_x1, 0), sym.Eq(L_x2, 0)] + case_4\n",
    "\n",
    "# Solve Case 4 and find x1, x2, m1, m2\n",
    "case_4_solution = sym.solve(case_4_constraints, [x1, x2, m1, m2])\n",
    "\n",
    "case_4_solution"
   ]
  },
  {
   "cell_type": "code",
   "execution_count": 26,
   "metadata": {},
   "outputs": [
    {
     "name": "stdout",
     "output_type": "stream",
     "text": [
      "Case 4 is not feasible\n"
     ]
    }
   ],
   "source": [
    "# Perform checks for Case 4\n",
    "case_4_checks_res = [check.subs(case_4_solution) for check in case_4_checks]\n",
    "\n",
    "if False in case_4_checks_res:\n",
    "    print('Case 4 is not feasible')\n",
    "else:\n",
    "    print('Case 4 is feasible')"
   ]
  },
  {
   "attachments": {},
   "cell_type": "markdown",
   "metadata": {},
   "source": [
    "**Case 4 is not feasible**"
   ]
  },
  {
   "attachments": {},
   "cell_type": "markdown",
   "metadata": {},
   "source": [
    "**Step-6:** Find the true minimum value returned by this function by checking all the possible solutions.\n",
    "\n",
    "Since, we have gotten only one feasible situation, and that **solution is a local minimum, we can say that this is the true minimum value of this function.**\n",
    "\n",
    "Hence, the **true minimum value of this function is $-8.5$ at $x_{1}, x_{2} = (\\dfrac{1}{2}, \\dfrac{3}{2})$**"
   ]
  }
 ],
 "metadata": {
  "kernelspec": {
   "display_name": "Python 3",
   "language": "python",
   "name": "python3"
  },
  "language_info": {
   "codemirror_mode": {
    "name": "ipython",
    "version": 3
   },
   "file_extension": ".py",
   "mimetype": "text/x-python",
   "name": "python",
   "nbconvert_exporter": "python",
   "pygments_lexer": "ipython3",
   "version": "3.11.2"
  },
  "orig_nbformat": 4,
  "vscode": {
   "interpreter": {
    "hash": "42cdfe4f3c941b14f1ffc0cb241a1c3ed8a8a8e171a1e73cb861685cc9085a2e"
   }
  }
 },
 "nbformat": 4,
 "nbformat_minor": 2
}
