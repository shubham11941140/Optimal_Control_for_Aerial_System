{
 "cells": [
  {
   "attachments": {},
   "cell_type": "markdown",
   "metadata": {},
   "source": [
    "#### **Importing the necessary libraries**"
   ]
  },
  {
   "cell_type": "code",
   "execution_count": 1,
   "metadata": {},
   "outputs": [],
   "source": [
    "import sympy as sym\n",
    "import numpy as np\n",
    "import matplotlib.pyplot as plt"
   ]
  },
  {
   "attachments": {},
   "cell_type": "markdown",
   "metadata": {},
   "source": [
    "**Problem Statement**:\n",
    "\n",
    "**State-Space Definition of the given System:**\n",
    "\n",
    "$$\\dot{x_1}(t) = x_2(t)$$\n",
    "\n",
    "$$\\dot{x_2}(t) = -2x_1(t) + 2x_2(t) + 2u(t)$$\n",
    "\n",
    "**Boundary Conditions:** \n",
    "\n",
    "$$t \\in [0,6]$$\n",
    "\n",
    "$$x_1(0) = 1$$\n",
    "\n",
    "$$x_2(0) = -2$$\n",
    "\n",
    "**Performance Index:**\n",
    "\n",
    "$$PI = \\dfrac{1}{2} \\left[ x_{1}^2(6) + 2x_1(6)x_2(6) + 2x_2^2(6) \\right] + \\int_0^6 \\left[ 2x_{1}^2(t) + 3x_1(t)x_2(t) + 2x_2^2(t) + \\dfrac{1}{2} u^2(t) \\right]dt$$\n",
    "\n",
    "**Find the optimal control input $u(t)$ for the given system to minimize the performance index.**"
   ]
  },
  {
   "attachments": {},
   "cell_type": "markdown",
   "metadata": {},
   "source": [
    "**Solution**:"
   ]
  },
  {
   "attachments": {},
   "cell_type": "markdown",
   "metadata": {},
   "source": [
    "$$A = \\begin{bmatrix} 0 & 1 \\\\ -2 & 2 \\end{bmatrix}$$\n",
    "\n",
    "$$B = \\begin{bmatrix} 0 \\\\ 2 \\end{bmatrix}$$\n",
    "\n",
    "$$F = \\begin{bmatrix} 1 & 1 \\\\ 1 & 2 \\end{bmatrix}$$\n",
    "\n",
    "$$t_f = 6$$\n",
    "\n",
    "$$Q = \\begin{bmatrix} 4 & 3 \\\\ 3 & 4 \\end{bmatrix}$$\n",
    "\n",
    "$$R = 1$$"
   ]
  },
  {
   "attachments": {},
   "cell_type": "markdown",
   "metadata": {},
   "source": [
    "### **Eigen-Vales of $A$ are:**\n",
    "\n",
    "$$\\lambda_1 = 1 + j$$\n",
    "\n",
    "$$\\lambda_2 = 1 - j$$\n",
    "\n",
    "**Since the Real-Part of both the Eigen-Values is positive, the system is unstable.**"
   ]
  },
  {
   "attachments": {},
   "cell_type": "markdown",
   "metadata": {},
   "source": [
    "### **Matrix Differential Riccati Equation:**\n",
    "\n",
    "$$\\dot{P} = -(A^TP + PA - PBR^{-1}B^TP + Q)$$"
   ]
  },
  {
   "attachments": {},
   "cell_type": "markdown",
   "metadata": {},
   "source": [
    "### **Non-Linear Algebraic Riccati Equation:**\n",
    "\n",
    "$$ \\dot{P} = 0$$\n",
    "\n",
    "**P is a Constant Matrix**\n",
    "\n",
    "$$A^TP + PA - PBR^{-1}B^TP + Q = 0$$\n",
    "\n",
    "$$ -\\begin{bmatrix} 0 & -2 \\\\ 1 & 2 \\end{bmatrix} \\begin{bmatrix} P_{11}(t) & P_{12}(t) \\\\ P_{12}(t) & P_{22}(t) \\end{bmatrix} - \\begin{bmatrix} 0 & 1 \\\\ -2 & 2 \\end{bmatrix} \\begin{bmatrix} P_{11}(t) & P_{12}(t) \\\\ P_{12}(t) & P_{22}(t) \\end{bmatrix} + \\begin{bmatrix} P_{11}(t) & P_{12}(t) \\\\ P_{12}(t) & P_{22}(t) \\end{bmatrix} \\begin{bmatrix} 0 \\\\ 2 \\end{bmatrix} \\begin{bmatrix} 0 & 2 \\end{bmatrix} \\begin{bmatrix} P_{11}(t) & P_{12}(t) \\\\ P_{12}(t) & P_{22}(t) \\end{bmatrix} - \\begin{bmatrix} 4 & 3 \\\\ 3 & 4 \\end{bmatrix} = 0$$"
   ]
  },
  {
   "attachments": {},
   "cell_type": "markdown",
   "metadata": {},
   "source": [
    "Now, lets use **SymPy** to simplify the above equation:\n"
   ]
  },
  {
   "cell_type": "code",
   "execution_count": 2,
   "metadata": {},
   "outputs": [
    {
     "name": "stdout",
     "output_type": "stream",
     "text": [
      "⎡⎛                                    ________⎞  ⎛                            \n",
      "⎢⎜       ___________    √5   1  1   ╲╱ 4 - √5 ⎟  ⎜       ___________    1   √5\n",
      "⎢⎜-2 + ╲╱ 20 - 5⋅√5 , - ── - ─, ─ - ──────────⎟, ⎜-2 + ╲╱ 5⋅√5 + 20 , - ─ + ──\n",
      "⎣⎝                      2    2  2       2     ⎠  ⎝                      2   2 \n",
      "\n",
      "        ________⎞  ⎛                                     ________⎞  ⎛         \n",
      "  1   ╲╱ √5 + 4 ⎟  ⎜    ___________        √5   1  1   ╲╱ 4 - √5 ⎟  ⎜    _____\n",
      ", ─ + ──────────⎟, ⎜- ╲╱ 20 - 5⋅√5  - 2, - ── - ─, ─ + ──────────⎟, ⎜- ╲╱ 5⋅√5\n",
      "  2       2     ⎠  ⎝                       2    2  2       2     ⎠  ⎝         \n",
      "\n",
      "                            ________⎞⎤\n",
      "______        1   √5  1   ╲╱ √5 + 4 ⎟⎥\n",
      " + 20  - 2, - ─ + ──, ─ - ──────────⎟⎥\n",
      "              2   2   2       2     ⎠⎦\n"
     ]
    }
   ],
   "source": [
    "t = sym.symbols('t')\n",
    "P11, P12, P22 = sym.symbols('P11 P12 P22')\n",
    "P = sym.Matrix([[P11, P12], [P12, P22]])\n",
    "A = sym.Matrix([[0, 1], [-2, 2]])\n",
    "B = sym.Matrix([[0], [2]])\n",
    "Q = sym.Matrix([[4, 3], [3, 4]])\n",
    "R = 1\n",
    "\n",
    "# Solve for P\n",
    "P = sym.solve(P * A + A.T * P + Q - P * B * B.T * P, P)\n",
    "\n",
    "# Print P beutifully\n",
    "sym.pprint(P)"
   ]
  },
  {
   "attachments": {},
   "cell_type": "markdown",
   "metadata": {},
   "source": [
    "We have **4 distinct solutions for P**, they are\n",
    "\n",
    "$$P_1 = \\begin{bmatrix} -2 + \\sqrt{20 - 5\\sqrt{5}} & \\dfrac{\\sqrt{5} - 1}{2} \\\\ \\dfrac{\\sqrt{5} - 1}{2} & \\dfrac{1 - \\sqrt{4 - \\sqrt{5}}}{2} \\end{bmatrix} = \\begin{bmatrix} 0.969791257395215 & −1.61803398874989 \\\\ −1.61803398874989 & −0.164065513052028 \\end{bmatrix}$$\n",
    "​\n",
    "$$P_2 = \\begin{bmatrix} -2 + \\sqrt{20 + 5\\sqrt{5}} & \\dfrac{\\sqrt{5} - 1}{2} \\\\ \\dfrac{\\sqrt{5} - 1}{2} & \\dfrac{1 + \\sqrt{4 + \\sqrt{5}}}{2} \\end{bmatrix} = \\begin{bmatrix} 3.58393587781047 & 0.618033988749895 \\\\ 0.618033988749895 & 1.74860602047842 \\end{bmatrix}$$\n",
    "​\n",
    "$$P_3 = \\begin{bmatrix} -2 - \\sqrt{20 - 5\\sqrt{5}} & \\dfrac{-\\sqrt{5} - 1}{2} \\\\ \\dfrac{-\\sqrt{5} - 1}{2} & \\dfrac{1 + \\sqrt{4 - \\sqrt{5}}}{2} \\end{bmatrix} = \\begin{bmatrix} −4.96979125739522 & −1.61803398874989 \\\\ −1.61803398874989 & 1.16406551305203 \\end{bmatrix}$$\n",
    "\n",
    "$$P_4 = \\begin{bmatrix} -2 - \\sqrt{20 + 5\\sqrt{5}} & \\dfrac{\\sqrt{5} - 1}{2} \\\\ \\dfrac{\\sqrt{5} - 1}{2} & \\dfrac{1 - \\sqrt{4 + \\sqrt{5}}}{2} \\end{bmatrix} = \\begin{bmatrix} −7.58393587781047 & 0.618033988749895 \\\\ 0.618033988749895 & −0.748606020478416 \\end{bmatrix}$$"
   ]
  },
  {
   "attachments": {},
   "cell_type": "markdown",
   "metadata": {},
   "source": [
    "**Calculating**\n",
    "\n",
    "$$K = -R^{-1}B^TP$$\n",
    "\n",
    "$$u(t) = -Kx(t)$$"
   ]
  },
  {
   "cell_type": "code",
   "execution_count": 3,
   "metadata": {},
   "outputs": [
    {
     "name": "stdout",
     "output_type": "stream",
     "text": [
      "⎡               ________⎤\n",
      "⎣1 + √5  -1 + ╲╱ 4 - √5 ⎦\n",
      "⎡            ________    ⎤\n",
      "⎣1 - √5  - ╲╱ √5 + 4  - 1⎦\n",
      "⎡            ________    ⎤\n",
      "⎣1 + √5  - ╲╱ 4 - √5  - 1⎦\n",
      "⎡               ________⎤\n",
      "⎣1 - √5  -1 + ╲╱ √5 + 4 ⎦\n"
     ]
    }
   ],
   "source": [
    "P1 = sym.Matrix([[P[0][0], P[0][1]], [P[0][1], P[0][2]]])\n",
    "K1 = -B.T * P1\n",
    "sym.pprint(K1)\n",
    "\n",
    "P2 = sym.Matrix([[P[1][0], P[1][1]], [P[1][1], P[1][2]]])\n",
    "K2 = -B.T * P2\n",
    "sym.pprint(K2)\n",
    "\n",
    "P3 = sym.Matrix([[P[2][0], P[2][1]], [P[2][1], P[2][2]]])\n",
    "K3 = -B.T * P3\n",
    "sym.pprint(K3)\n",
    "\n",
    "P4 = sym.Matrix([[P[3][0], P[3][1]], [P[3][1], P[3][2]]])\n",
    "K4 = -B.T * P4\n",
    "sym.pprint(K4)\n"
   ]
  },
  {
   "attachments": {},
   "cell_type": "markdown",
   "metadata": {},
   "source": [
    "**For $P_1$:**\n",
    "\n",
    "$$K_1 = \\begin{bmatrix} 1 + \\sqrt{5} & -1 + \\sqrt{4 - \\sqrt{5}} \\end{bmatrix} = \n",
    "\\begin{bmatrix} 3.23606797749979 & 0.328131026104055 \\end{bmatrix}$$\n",
    "\n",
    "**For $P_2$:**\n",
    "\n",
    "$$K_2 = \\begin{bmatrix} 1 - \\sqrt{5} & -1 - \\sqrt{4 + \\sqrt{5}} \\end{bmatrix} =\n",
    "\\begin{bmatrix} −1.23606797749979 & −3.49721204095683 \\end{bmatrix}$$\n",
    "\n",
    "**For $P_3$:**\n",
    "\n",
    "$$K_3 = \\begin{bmatrix} 1 + \\sqrt{5} & -1 - \\sqrt{4 + \\sqrt{5}} \\end{bmatrix} =\n",
    "\\begin{bmatrix} 3.23606797749979 & −2.32813102610406  \\end{bmatrix}$$\n",
    "\n",
    "**For $P_4$:**\n",
    "\n",
    "$$K_4 = \\begin{bmatrix} 1 - \\sqrt{5} & -1 + \\sqrt{4 + \\sqrt{5}} \\end{bmatrix} = \n",
    "\\begin{bmatrix} −1.23606797749979 & 1.49721204095683 \\end{bmatrix}$$"
   ]
  },
  {
   "attachments": {},
   "cell_type": "markdown",
   "metadata": {},
   "source": [
    "## **Optimal Cost**\n",
    "\n",
    "$$C = \\dfrac{1}{2} x^T(t_0)Px(t_0)$$\n",
    "\n",
    "$$t_0 = 0$$\n",
    "\n",
    "$$x(t_0) = \\begin{bmatrix} x_1(t_0) \\\\ x_2(t_0) \\end{bmatrix} = \\begin{bmatrix} 1 \\\\ -2 \\end{bmatrix}$$\n",
    "\n",
    "$$x^T(t_0) = \\begin{bmatrix} 1 & -2 \\end{bmatrix}$$"
   ]
  },
  {
   "cell_type": "code",
   "execution_count": 5,
   "metadata": {},
   "outputs": [
    {
     "name": "stdout",
     "output_type": "stream",
     "text": [
      "⎡                     ___________     ⎤\n",
      "⎢    ________       ╲╱ 20 - 5⋅√5      ⎥\n",
      "⎢- ╲╱ 4 - √5  + 1 + ───────────── + √5⎥\n",
      "⎣                         2           ⎦\n",
      "⎡                         ___________⎤\n",
      "⎢            ________   ╲╱ 5⋅√5 + 20 ⎥\n",
      "⎢-√5 + 1 + ╲╱ √5 + 4  + ─────────────⎥\n",
      "⎣                             2      ⎦\n",
      "⎡    ___________                      ⎤\n",
      "⎢  ╲╱ 20 - 5⋅√5          ________     ⎥\n",
      "⎢- ───────────── + 1 + ╲╱ 4 - √5  + √5⎥\n",
      "⎣        2                            ⎦\n",
      "⎡    ___________                      ⎤\n",
      "⎢  ╲╱ 5⋅√5 + 20      ________         ⎥\n",
      "⎢- ───────────── - ╲╱ √5 + 4  - √5 + 1⎥\n",
      "⎣        2                            ⎦\n"
     ]
    }
   ],
   "source": [
    "x = sym.Matrix([[1], [-2]])\n",
    "C1 = (x.T * P1 * x) / 2\n",
    "C2 = (x.T * P2 * x) / 2\n",
    "C3 = (x.T * P3 * x) / 2\n",
    "C4 = (x.T * P4 * x) / 2\n",
    "\n",
    "sym.pprint(C1)\n",
    "sym.pprint(C2)\n",
    "sym.pprint(C3)\n",
    "sym.pprint(C4)\n"
   ]
  },
  {
   "attachments": {},
   "cell_type": "markdown",
   "metadata": {},
   "source": [
    "**For $P_1$:**\n",
    "\n",
    "$$C_1 = -\\sqrt{4 - \\sqrt{5}} + 1 + \\dfrac{\\sqrt{20 - 5\\sqrt{5}}}{2} + \\sqrt{5} = 3.39283258009334$$\n",
    "\n",
    "**For $P_2$:**\n",
    "\n",
    "$$C_2 = -\\sqrt{5} + 1 + \\sqrt{\\sqrt{5} + 4} + \\dfrac{\\sqrt{20 + 5\\sqrt{5}}}{2} = 4.05311200236228$$\n",
    "\n",
    "**For $P_3$:**\n",
    "\n",
    "$$C_3 = -\\dfrac{\\sqrt{20 - 5\\sqrt{5}}}{2} + 1 + \\sqrt{4 - \\sqrt{5}} + \\sqrt{5} = 3.07930337490624 $$\n",
    "\n",
    "**For $P_4$:**\n",
    "\n",
    "$$C_4 = -\\dfrac{\\sqrt{20 + 5\\sqrt{5}}}{2} - \\sqrt{4 + \\sqrt{5}} - \\sqrt{5} + 1 = −6.52524795736186$$"
   ]
  },
  {
   "attachments": {},
   "cell_type": "markdown",
   "metadata": {},
   "source": [
    "#### **Since $C_4 = -6.52524795736186$ is the minimum cost, we can say that $P_4$ is the optimal solution.**"
   ]
  }
 ],
 "metadata": {
  "kernelspec": {
   "display_name": "Python 3",
   "language": "python",
   "name": "python3"
  },
  "language_info": {
   "codemirror_mode": {
    "name": "ipython",
    "version": 3
   },
   "file_extension": ".py",
   "mimetype": "text/x-python",
   "name": "python",
   "nbconvert_exporter": "python",
   "pygments_lexer": "ipython3",
   "version": "3.11.2"
  },
  "orig_nbformat": 4,
  "vscode": {
   "interpreter": {
    "hash": "42cdfe4f3c941b14f1ffc0cb241a1c3ed8a8a8e171a1e73cb861685cc9085a2e"
   }
  }
 },
 "nbformat": 4,
 "nbformat_minor": 2
}
